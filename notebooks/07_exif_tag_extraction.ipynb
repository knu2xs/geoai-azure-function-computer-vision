{
 "cells": [
  {
   "cell_type": "markdown",
   "metadata": {},
   "source": [
    "# Image Processing"
   ]
  },
  {
   "cell_type": "code",
   "execution_count": 1,
   "metadata": {},
   "outputs": [],
   "source": [
    "# imports\n",
    "import os\n",
    "from PIL import Image\n",
    "from PIL.ExifTags import TAGS, GPSTAGS\n",
    "from datetime import datetime\n",
    "import pytz\n",
    "from arcgis.geometry import Geometry\n",
    "\n",
    "def _convert_to_decimal_degress(value):\n",
    "    \"\"\"\n",
    "    Helper function to convert the GPS coordinates stored in the EXIF to degress in float format\n",
    "    :param value: tuple read from EXIF with DMS coordinate values\n",
    "    :return: float\n",
    "    \"\"\"\n",
    "    # get the respective degrees, minutes and seconds\n",
    "    d = float(value[0][0]) / float(value[0][1])\n",
    "    m = float(value[1][0]) / float(value[1][1])\n",
    "    s = float(value[2][0]) / float(value[2][1])\n",
    "\n",
    "    # combine degrees, minutes and seconds into decimal degrees\n",
    "    return d + (m / 60.0) + (s / 3600.0)\n",
    "\n",
    "\n",
    "class Img():\n",
    "    \"\"\"\n",
    "    Make it easier to access image properties.\n",
    "    \"\"\"\n",
    "    def __init__(self, image_path):\n",
    "        self.file = os.path.abspath(image_path)\n",
    "        self.exif = self._get_exif(image_path)\n",
    "    \n",
    "    def _get_exif(self, img):\n",
    "        \"\"\"\n",
    "        Extract the image EXIF data to a dictionary.\n",
    "        :param img: String path to the image with EXIF data to be parsed.\n",
    "        :return dict: All tags in very raw format extracted from the image.\n",
    "        \"\"\"\n",
    "        try:\n",
    "            # get the exif dictionary\n",
    "            exif_dict = {TAGS.get(tag, tag): value for tag, value in Image.open(img)._getexif().items()}\n",
    "\n",
    "            # clean up the GPS tags to be human readable as well\n",
    "            if 'GPSInfo' in exif_dict.keys():\n",
    "                exif_dict['GPSInfo'] = {GPSTAGS.get(key,key): exif_dict['GPSInfo'][key] for key in exif_dict['GPSInfo'].keys()}\n",
    "\n",
    "            return exif_dict\n",
    "        \n",
    "        except Exception as e:\n",
    "            \n",
    "            print(f'ERROR on {img}') \n",
    "    \n",
    "    @property\n",
    "    def geometry(self):\n",
    "        \"\"\"\n",
    "        Get a point geometry from the GPS dictionary extracted from the image EXIF data.\n",
    "        :return Point Geometry: Location where the image was captured.\n",
    "        \"\"\"\n",
    "        if self.has_location:\n",
    "            gps_dict = self.exif['GPSInfo']\n",
    "\n",
    "            # extract the longitude and latitude values as decimal degrees\n",
    "            coord_lat = _convert_to_decimal_degress(gps_dict['GPSLatitude'])\n",
    "            coord_lon = _convert_to_decimal_degress(gps_dict['GPSLongitude'])\n",
    "\n",
    "            # assign the correct positive or negative value based on hemisphere\n",
    "            coord_lon = -coord_lon if gps_dict['GPSLongitudeRef'] is 'W' else coord_lon\n",
    "            coord_lat = -coord_lat if gps_dict['GPSLatitudeRef'] is 'S' else coord_lat\n",
    "\n",
    "            # create a geometry object from the coordinates\n",
    "            return Geometry({'x': coord_lon, 'y': coord_lat, 'spatialReference': {'wkid': 4326}})\n",
    "        \n",
    "        else:\n",
    "            return None\n",
    "        \n",
    "    @property\n",
    "    def point(self):\n",
    "        \"\"\"\n",
    "        Get a point geometry from the GPS dictionary extracted from the image EXIF data.\n",
    "        :return Point Geometry: Location where the image was captured.\n",
    "        \"\"\"\n",
    "        return self.geometry\n",
    "    \n",
    "    @property\n",
    "    def location(self):\n",
    "        \"\"\"\n",
    "        Get a point geometry from the GPS dictionary extracted from the image EXIF data.\n",
    "        :return Point Geometry: Location where the image was captured.\n",
    "        \"\"\"\n",
    "        return self.geometry\n",
    "    \n",
    "    @property\n",
    "    def gps_datetime(self):\n",
    "        \"\"\"\n",
    "        Get the datetime from the GPS information in the EXIF data.\n",
    "        :param gps_dict: GPS dictionary extracted from the EXIF dictionary.\n",
    "        :return datetime: Datetime object when image was captured according to the GPS timestamp.\n",
    "        \"\"\"\n",
    "        if self.has_location:\n",
    "            gps_dict = self.exif['GPSInfo']\n",
    "\n",
    "            # extract the hour, minute and second from the GPS information\n",
    "            gps_time = gps_dict['GPSTimeStamp']\n",
    "\n",
    "            h = int(gps_time[0][0] / gps_time[0][1])\n",
    "            m = int(gps_time[1][0] / gps_time[1][1])\n",
    "            s = int(gps_time[2][0] / gps_time[2][1])\n",
    "\n",
    "            # extract the year, month and day from the GPS information\n",
    "            gps_date = [int(val) for val in gps_dict['GPSDateStamp'].split(':')]\n",
    "\n",
    "            # create a datetime object with the extracted values\n",
    "            return datetime(gps_date[0], gps_date[1], gps_date[2], h, m, s, tzinfo=pytz.utc)\n",
    "        \n",
    "        else:\n",
    "            return None\n",
    "        \n",
    "    @property\n",
    "    def has_location(self):\n",
    "        if 'GPSInfo' in self.exif.keys():\n",
    "            return True\n",
    "        else:\n",
    "            return False\n",
    "        \n",
    "    @property\n",
    "    def properites(self):\n",
    "        return {\n",
    "            'file': self.file,\n",
    "            'exif': self.exif,\n",
    "            'geometry': self.geometry,\n",
    "            'gps_datetime': self.gps_datetime\n",
    "        }"
   ]
  },
  {
   "cell_type": "code",
   "execution_count": 2,
   "metadata": {},
   "outputs": [],
   "source": [
    "# minimal module imports\n",
    "from arcgis.features import GeoAccessor, GeoSeriesAccessor\n",
    "import pandas as pd\n",
    "import imghdr\n",
    "import os\n",
    "from arcgis.gis import GIS\n",
    "\n",
    "# a couple of handy variables and settings to get started\n",
    "data = r'../data'\n",
    "data_raw = os.path.join(data, 'raw')\n",
    "data_raw_image_dir = os.path.join(data_raw, 'images')"
   ]
  },
  {
   "cell_type": "code",
   "execution_count": 3,
   "metadata": {},
   "outputs": [
    {
     "ename": "FileNotFoundError",
     "evalue": "[Errno 2] No such file or directory: '../data/raw/images'",
     "output_type": "error",
     "traceback": [
      "\u001b[0;31m---------------------------------------------------------------------------\u001b[0m",
      "\u001b[0;31mFileNotFoundError\u001b[0m                         Traceback (most recent call last)",
      "\u001b[0;32m<ipython-input-3-3f6d25093a24>\u001b[0m in \u001b[0;36m<module>\u001b[0;34m()\u001b[0m\n\u001b[1;32m      2\u001b[0m img_file_lst = [\n\u001b[1;32m      3\u001b[0m     \u001b[0mos\u001b[0m\u001b[0;34m.\u001b[0m\u001b[0mpath\u001b[0m\u001b[0;34m.\u001b[0m\u001b[0mabspath\u001b[0m\u001b[0;34m(\u001b[0m\u001b[0mos\u001b[0m\u001b[0;34m.\u001b[0m\u001b[0mpath\u001b[0m\u001b[0;34m.\u001b[0m\u001b[0mjoin\u001b[0m\u001b[0;34m(\u001b[0m\u001b[0mdata_raw_image_dir\u001b[0m\u001b[0;34m,\u001b[0m \u001b[0mimg\u001b[0m\u001b[0;34m)\u001b[0m\u001b[0;34m)\u001b[0m\u001b[0;34m\u001b[0m\u001b[0m\n\u001b[0;32m----> 4\u001b[0;31m     \u001b[0;32mfor\u001b[0m \u001b[0mimg\u001b[0m \u001b[0;32min\u001b[0m \u001b[0mos\u001b[0m\u001b[0;34m.\u001b[0m\u001b[0mlistdir\u001b[0m\u001b[0;34m(\u001b[0m\u001b[0mdata_raw_image_dir\u001b[0m\u001b[0;34m)\u001b[0m\u001b[0;34m\u001b[0m\u001b[0m\n\u001b[0m\u001b[1;32m      5\u001b[0m ]\n\u001b[1;32m      6\u001b[0m \u001b[0mimg_file_lst\u001b[0m \u001b[0;34m=\u001b[0m \u001b[0;34m[\u001b[0m\u001b[0mImg\u001b[0m\u001b[0;34m(\u001b[0m\u001b[0mimg\u001b[0m\u001b[0;34m)\u001b[0m \u001b[0;32mfor\u001b[0m \u001b[0mimg\u001b[0m \u001b[0;32min\u001b[0m \u001b[0mimg_file_lst\u001b[0m \u001b[0;32mif\u001b[0m \u001b[0mimghdr\u001b[0m\u001b[0;34m.\u001b[0m\u001b[0mwhat\u001b[0m\u001b[0;34m(\u001b[0m\u001b[0mimg\u001b[0m\u001b[0;34m)\u001b[0m\u001b[0;34m]\u001b[0m\u001b[0;34m\u001b[0m\u001b[0m\n",
      "\u001b[0;31mFileNotFoundError\u001b[0m: [Errno 2] No such file or directory: '../data/raw/images'"
     ]
    }
   ],
   "source": [
    "# get all the images to be processed\n",
    "img_file_lst = [\n",
    "    os.path.abspath(os.path.join(data_raw_image_dir, img)) \n",
    "    for img in os.listdir(data_raw_image_dir)\n",
    "]\n",
    "img_file_lst = [Img(img) for img in img_file_lst if imghdr.what(img)]\n",
    "\n",
    "img = img_file_lst[0]\n",
    "img"
   ]
  },
  {
   "cell_type": "code",
   "execution_count": 4,
   "metadata": {},
   "outputs": [
    {
     "name": "stdout",
     "output_type": "stream",
     "text": [
      "unlocated: 1\n",
      "located: 126\n"
     ]
    }
   ],
   "source": [
    "print(f'unlocated: {len([img.file for img in img_file_lst if not img.has_location])}')\n",
    "print(f'located: {len([img.file for img in img_file_lst if img.has_location])}')"
   ]
  },
  {
   "cell_type": "code",
   "execution_count": 5,
   "metadata": {},
   "outputs": [
    {
     "data": {
      "text/html": [
       "<div>\n",
       "<style scoped>\n",
       "    .dataframe tbody tr th:only-of-type {\n",
       "        vertical-align: middle;\n",
       "    }\n",
       "\n",
       "    .dataframe tbody tr th {\n",
       "        vertical-align: top;\n",
       "    }\n",
       "\n",
       "    .dataframe thead th {\n",
       "        text-align: right;\n",
       "    }\n",
       "</style>\n",
       "<table border=\"1\" class=\"dataframe\">\n",
       "  <thead>\n",
       "    <tr style=\"text-align: right;\">\n",
       "      <th></th>\n",
       "      <th>file</th>\n",
       "      <th>datetime</th>\n",
       "      <th>SHAPE</th>\n",
       "    </tr>\n",
       "  </thead>\n",
       "  <tbody>\n",
       "    <tr>\n",
       "      <th>0</th>\n",
       "      <td>/Users/joel5174/projects/azure_cognitive_weapo...</td>\n",
       "      <td>2019-01-18 20:07:51+00:00</td>\n",
       "      <td>{\"x\": -122.9115752, \"y\": 47.037031899999995, \"...</td>\n",
       "    </tr>\n",
       "    <tr>\n",
       "      <th>1</th>\n",
       "      <td>/Users/joel5174/projects/azure_cognitive_weapo...</td>\n",
       "      <td>2019-01-18 20:10:11+00:00</td>\n",
       "      <td>{\"x\": -122.91179479997223, \"y\": 47.04260389999...</td>\n",
       "    </tr>\n",
       "    <tr>\n",
       "      <th>2</th>\n",
       "      <td>/Users/joel5174/projects/azure_cognitive_weapo...</td>\n",
       "      <td>2019-01-18 20:10:21+00:00</td>\n",
       "      <td>{\"x\": -122.9111895, \"y\": 47.042995699972224, \"...</td>\n",
       "    </tr>\n",
       "    <tr>\n",
       "      <th>3</th>\n",
       "      <td>/Users/joel5174/projects/azure_cognitive_weapo...</td>\n",
       "      <td>2019-01-18 20:08:01+00:00</td>\n",
       "      <td>{\"x\": -122.9122325, \"y\": 47.036903699999996, \"...</td>\n",
       "    </tr>\n",
       "    <tr>\n",
       "      <th>4</th>\n",
       "      <td>/Users/joel5174/projects/azure_cognitive_weapo...</td>\n",
       "      <td>2019-01-18 20:10:41+00:00</td>\n",
       "      <td>{\"x\": -122.90964169997223, \"y\": 47.0434325, \"s...</td>\n",
       "    </tr>\n",
       "  </tbody>\n",
       "</table>\n",
       "</div>"
      ],
      "text/plain": [
       "                                                file  \\\n",
       "0  /Users/joel5174/projects/azure_cognitive_weapo...   \n",
       "1  /Users/joel5174/projects/azure_cognitive_weapo...   \n",
       "2  /Users/joel5174/projects/azure_cognitive_weapo...   \n",
       "3  /Users/joel5174/projects/azure_cognitive_weapo...   \n",
       "4  /Users/joel5174/projects/azure_cognitive_weapo...   \n",
       "\n",
       "                   datetime                                              SHAPE  \n",
       "0 2019-01-18 20:07:51+00:00  {\"x\": -122.9115752, \"y\": 47.037031899999995, \"...  \n",
       "1 2019-01-18 20:10:11+00:00  {\"x\": -122.91179479997223, \"y\": 47.04260389999...  \n",
       "2 2019-01-18 20:10:21+00:00  {\"x\": -122.9111895, \"y\": 47.042995699972224, \"...  \n",
       "3 2019-01-18 20:08:01+00:00  {\"x\": -122.9122325, \"y\": 47.036903699999996, \"...  \n",
       "4 2019-01-18 20:10:41+00:00  {\"x\": -122.90964169997223, \"y\": 47.0434325, \"s...  "
      ]
     },
     "execution_count": 5,
     "metadata": {},
     "output_type": "execute_result"
    }
   ],
   "source": [
    "df = pd.DataFrame(\n",
    "    [[img.file, img.gps_datetime, img.geometry] for img in img_file_lst], \n",
    "    columns=['file', 'datetime', 'SHAPE']\n",
    ")\n",
    "df.spatial.set_geometry('SHAPE')\n",
    "df.head()"
   ]
  },
  {
   "cell_type": "code",
   "execution_count": 6,
   "metadata": {},
   "outputs": [
    {
     "data": {
      "application/vnd.jupyter.widget-view+json": {
       "model_id": "a1f6cbe0c77c447ca226c0aae21ff3a7",
       "version_major": 2,
       "version_minor": 0
      },
      "text/plain": [
       "MapView(layout=Layout(height='400px', width='100%'), tab_mode='split-right')"
      ]
     },
     "metadata": {},
     "output_type": "display_data"
    },
    {
     "data": {
      "text/html": [
       "<div class=\"map-static-img-preview-e2749744-01fc-4a72-8a5e-a2389bc623dc\"><img src=\"\"></img></div>"
      ],
      "text/plain": [
       "<IPython.core.display.HTML object>"
      ]
     },
     "metadata": {},
     "output_type": "display_data"
    }
   ],
   "source": [
    "mp = GIS().map('Olympia, WA')\n",
    "mp.basemap = 'dark-gray-vector'\n",
    "df.spatial.plot(map_widget=mp)\n",
    "mp.tab_mode = \"split-right\"\n",
    "mp"
   ]
  },
  {
   "cell_type": "code",
   "execution_count": null,
   "metadata": {},
   "outputs": [],
   "source": []
  }
 ],
 "metadata": {
  "kernelspec": {
   "display_name": "Python 3",
   "language": "python",
   "name": "python3"
  },
  "language_info": {
   "codemirror_mode": {
    "name": "ipython",
    "version": 3
   },
   "file_extension": ".py",
   "mimetype": "text/x-python",
   "name": "python",
   "nbconvert_exporter": "python",
   "pygments_lexer": "ipython3",
   "version": "3.6.5"
  }
 },
 "nbformat": 4,
 "nbformat_minor": 2
}
