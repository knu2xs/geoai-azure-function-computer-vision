{
 "cells": [
  {
   "cell_type": "code",
   "execution_count": 1,
   "metadata": {},
   "outputs": [],
   "source": [
    "from arcgis.gis import GIS, Item"
   ]
  },
  {
   "cell_type": "code",
   "execution_count": 2,
   "metadata": {},
   "outputs": [],
   "source": [
    "user = 'jmccune_geoai'\n",
    "item_id = 'ea5edc3a6e194769ba7b787e8d5614b9'"
   ]
  },
  {
   "cell_type": "code",
   "execution_count": 3,
   "metadata": {},
   "outputs": [
    {
     "name": "stdin",
     "output_type": "stream",
     "text": [
      "Enter password:  ··········\n"
     ]
    },
    {
     "data": {
      "text/html": [
       "GIS @ <a href=\"https://geoai.maps.arcgis.com\">https://geoai.maps.arcgis.com</a>"
      ],
      "text/plain": [
       "<arcgis.gis.GIS at 0x11758d1d0>"
      ]
     },
     "execution_count": 3,
     "metadata": {},
     "output_type": "execute_result"
    }
   ],
   "source": [
    "gis = GIS(username=user)\n",
    "gis"
   ]
  },
  {
   "cell_type": "code",
   "execution_count": 5,
   "metadata": {},
   "outputs": [
    {
     "data": {
      "text/plain": [
       "<FeatureLayer url:\"https://services8.arcgis.com/r5nMFFrM0YYutfJu/arcgis/rest/services/survey123_68c4b6e593a443d0af756a4667ab62e9/FeatureServer/0\">"
      ]
     },
     "execution_count": 5,
     "metadata": {},
     "output_type": "execute_result"
    }
   ],
   "source": [
    "lyr = Item(gis, item_id).layers[0]\n",
    "lyr"
   ]
  },
  {
   "cell_type": "code",
   "execution_count": 11,
   "metadata": {},
   "outputs": [
    {
     "data": {
      "text/plain": [
       "'3,8,9,10,12,13,14,15,16,17,18,19,21,23,24,25,26,28,29,30,31,33,34,35,36,37,38,39,40,46,47,48'"
      ]
     },
     "execution_count": 11,
     "metadata": {},
     "output_type": "execute_result"
    }
   ],
   "source": [
    "fs_null = lyr.query(where='weapon is NULL', return_ids_only=True)\n",
    "oids = ','.join([f'{val}' for val in fs_null['objectIds']])\n",
    "oids"
   ]
  },
  {
   "cell_type": "code",
   "execution_count": 12,
   "metadata": {},
   "outputs": [
    {
     "data": {
      "text/plain": [
       "{'deleteResults': [{'objectId': 3,\n",
       "   'uniqueId': 3,\n",
       "   'globalId': None,\n",
       "   'success': True},\n",
       "  {'objectId': 8, 'uniqueId': 8, 'globalId': None, 'success': True},\n",
       "  {'objectId': 9, 'uniqueId': 9, 'globalId': None, 'success': True},\n",
       "  {'objectId': 10, 'uniqueId': 10, 'globalId': None, 'success': True},\n",
       "  {'objectId': 12, 'uniqueId': 12, 'globalId': None, 'success': True},\n",
       "  {'objectId': 13, 'uniqueId': 13, 'globalId': None, 'success': True},\n",
       "  {'objectId': 14, 'uniqueId': 14, 'globalId': None, 'success': True},\n",
       "  {'objectId': 15, 'uniqueId': 15, 'globalId': None, 'success': True},\n",
       "  {'objectId': 16, 'uniqueId': 16, 'globalId': None, 'success': True},\n",
       "  {'objectId': 17, 'uniqueId': 17, 'globalId': None, 'success': True},\n",
       "  {'objectId': 18, 'uniqueId': 18, 'globalId': None, 'success': True},\n",
       "  {'objectId': 19, 'uniqueId': 19, 'globalId': None, 'success': True},\n",
       "  {'objectId': 21, 'uniqueId': 21, 'globalId': None, 'success': True},\n",
       "  {'objectId': 23, 'uniqueId': 23, 'globalId': None, 'success': True},\n",
       "  {'objectId': 24, 'uniqueId': 24, 'globalId': None, 'success': True},\n",
       "  {'objectId': 25, 'uniqueId': 25, 'globalId': None, 'success': True},\n",
       "  {'objectId': 26, 'uniqueId': 26, 'globalId': None, 'success': True},\n",
       "  {'objectId': 28, 'uniqueId': 28, 'globalId': None, 'success': True},\n",
       "  {'objectId': 29, 'uniqueId': 29, 'globalId': None, 'success': True},\n",
       "  {'objectId': 30, 'uniqueId': 30, 'globalId': None, 'success': True},\n",
       "  {'objectId': 31, 'uniqueId': 31, 'globalId': None, 'success': True},\n",
       "  {'objectId': 33, 'uniqueId': 33, 'globalId': None, 'success': True},\n",
       "  {'objectId': 34, 'uniqueId': 34, 'globalId': None, 'success': True},\n",
       "  {'objectId': 35, 'uniqueId': 35, 'globalId': None, 'success': True},\n",
       "  {'objectId': 36, 'uniqueId': 36, 'globalId': None, 'success': True},\n",
       "  {'objectId': 37, 'uniqueId': 37, 'globalId': None, 'success': True},\n",
       "  {'objectId': 38, 'uniqueId': 38, 'globalId': None, 'success': True},\n",
       "  {'objectId': 39, 'uniqueId': 39, 'globalId': None, 'success': True},\n",
       "  {'objectId': 40, 'uniqueId': 40, 'globalId': None, 'success': True},\n",
       "  {'objectId': 46, 'uniqueId': 46, 'globalId': None, 'success': True},\n",
       "  {'objectId': 47, 'uniqueId': 47, 'globalId': None, 'success': True},\n",
       "  {'objectId': 48, 'uniqueId': 48, 'globalId': None, 'success': True}]}"
      ]
     },
     "execution_count": 12,
     "metadata": {},
     "output_type": "execute_result"
    }
   ],
   "source": [
    "lyr.delete_features(deletes=oids)"
   ]
  },
  {
   "cell_type": "code",
   "execution_count": null,
   "metadata": {},
   "outputs": [],
   "source": []
  }
 ],
 "metadata": {
  "kernelspec": {
   "display_name": "Python 3",
   "language": "python",
   "name": "python3"
  },
  "language_info": {
   "codemirror_mode": {
    "name": "ipython",
    "version": 3
   },
   "file_extension": ".py",
   "mimetype": "text/x-python",
   "name": "python",
   "nbconvert_exporter": "python",
   "pygments_lexer": "ipython3",
   "version": "3.6.5"
  }
 },
 "nbformat": 4,
 "nbformat_minor": 2
}
