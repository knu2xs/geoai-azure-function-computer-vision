{
 "cells": [
  {
   "cell_type": "code",
   "execution_count": 16,
   "metadata": {},
   "outputs": [
    {
     "data": {
      "text/plain": [
       "True"
      ]
     },
     "execution_count": 16,
     "metadata": {},
     "output_type": "execute_result"
    }
   ],
   "source": [
    "from arcgis.gis import GIS, Item\n",
    "import os\n",
    "from dotenv import load_dotenv, find_dotenv\n",
    "\n",
    "import sys\n",
    "sys.path.append('../azure_function_project')\n",
    "from src import ComputerVision\n",
    "\n",
    "# load the .env settings\n",
    "load_dotenv('../azure_function_project/detect-weapon/.env')"
   ]
  },
  {
   "cell_type": "code",
   "execution_count": 12,
   "metadata": {},
   "outputs": [
    {
     "data": {
      "text/plain": [
       "'9a8ebbff0726445ebe0e3766b19c7f3c'"
      ]
     },
     "execution_count": 12,
     "metadata": {},
     "output_type": "execute_result"
    }
   ],
   "source": [
    "gis_url = os.getenv('GIS_URL')\n",
    "gis_username = os.getenv('GIS_USERNAME')\n",
    "gis_password = os.getenv('GIS_PASSWORD')\n",
    "\n",
    "feature_service_item_id = os.getenv('SURVEY_LAYER_ITEM_ID')\n",
    "\n",
    "azure_key = os.getenv('AZURE_KEY')\n",
    "azure_region_code = os.getenv('AZURE_REGION_CODE')\n",
    "\n",
    "weapon_tags = ['weapon', 'gun', 'knife', 'axe']\n",
    "\n",
    "feature_oid = 2  # need to get this from JSON payload\n",
    "\n",
    "feature_service_item_id"
   ]
  },
  {
   "cell_type": "code",
   "execution_count": 20,
   "metadata": {},
   "outputs": [
    {
     "data": {
      "text/plain": [
       "{'addResults': [],\n",
       " 'updateResults': [{'objectId': 2,\n",
       "   'uniqueId': 2,\n",
       "   'globalId': '7b3b0e08-7c90-461b-8673-b44579fe14af',\n",
       "   'success': True}],\n",
       " 'deleteResults': []}"
      ]
     },
     "execution_count": 20,
     "metadata": {},
     "output_type": "execute_result"
    }
   ],
   "source": [
    "# instantiate an gis object instance using credentials\n",
    "gis = GIS(gis_url, username=gis_username, password=gis_password)\n",
    "\n",
    "# instantiate a layer object referencing the feature service layer\n",
    "lyr_pt = Item(gis, feature_service_item_id).layers[0]\n",
    "\n",
    "# get the attachment list for the feature \n",
    "attachment_lst = lyr_pt.attachments.get_list(feature_oid)\n",
    "\n",
    "# from the first attachment, the one submitted from the survey, get the id to use\n",
    "attachment_id = attachment_lst[0]['id']\n",
    "\n",
    "# using the feature layer url combined with the feature oid and attachemnt oid, create the url for the attachement image\n",
    "image_url = f'{lyr_pt.url}/{feature_oid}/attachments/{attachment_id}?token={gis._con.token}'\n",
    "\n",
    "# determine if a weapon exists\n",
    "vision = ComputerVision(azure_key, azure_region_code)\n",
    "weapon_status = vision.image_tag_match(image_url, weapon_tags)\n",
    "\n",
    "# get the feature object to work with\n",
    "feat = lyr_pt.query(object_ids=f'{feature_oid}').features[0]\n",
    "\n",
    "# update the weapon attribute in the feature with the returned status\n",
    "feat.attributes['weapon'] = weapon_status\n",
    "\n",
    "# push the updated feature to the feature service\n",
    "update_resp = lyr_pt.edit_features(updates=[feat])\n",
    "\n",
    "update_resp"
   ]
  },
  {
   "cell_type": "code",
   "execution_count": 9,
   "metadata": {},
   "outputs": [
    {
     "data": {
      "text/plain": [
       "'https://services8.arcgis.com/r5nMFFrM0YYutfJu/arcgis/rest/services/Azure_Weapon_Detection_azure/FeatureServer/0/2/attachments/2?token=rYgBgXS2osRcTxzmCY5QKaneN6YiZVjCuzORr8FGH-4xAHeEysErHVqeyuE3JAi1y5mUJ5BPOsSgIRNAnwzgQgiSxuYt_s0ebDB3PKjNRs0HO887Mlk6cODhcsHkwu9K'"
      ]
     },
     "execution_count": 9,
     "metadata": {},
     "output_type": "execute_result"
    }
   ],
   "source": [
    "f'{lyr_pt.url}/{feature_oid}/attachments/{attachment_id}?token={gis._con.token}'"
   ]
  },
  {
   "cell_type": "code",
   "execution_count": null,
   "metadata": {},
   "outputs": [],
   "source": []
  }
 ],
 "metadata": {
  "kernelspec": {
   "display_name": "Python 3",
   "language": "python",
   "name": "python3"
  },
  "language_info": {
   "codemirror_mode": {
    "name": "ipython",
    "version": 3
   },
   "file_extension": ".py",
   "mimetype": "text/x-python",
   "name": "python",
   "nbconvert_exporter": "python",
   "pygments_lexer": "ipython3",
   "version": "3.6.5"
  }
 },
 "nbformat": 4,
 "nbformat_minor": 2
}
